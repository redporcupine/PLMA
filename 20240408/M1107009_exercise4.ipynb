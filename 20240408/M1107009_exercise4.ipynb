{
 "cells": [
  {
   "cell_type": "code",
   "execution_count": 7,
   "metadata": {},
   "outputs": [
    {
     "name": "stdout",
     "output_type": "stream",
     "text": [
      "BMI:22\n",
      "體位:適中\n"
     ]
    }
   ],
   "source": [
    "#怕使用者輸入非數字，所以用try except\n",
    "while True:\n",
    "    try:\n",
    "        height = float(input(\"請輸入您的身高(公分): \")) / 100\n",
    "        weight = float(input(\"請輸入您的體重(公斤): \"))\n",
    "        BMI = int(weight // (height ** 2))\n",
    "        if BMI < 18.5:\n",
    "            print(f\"BMI:{BMI}\\n體位:過輕\")\n",
    "        elif BMI < 24:\n",
    "            print(f\"BMI:{BMI}\\n體位:適中\")\n",
    "        elif BMI < 27:\n",
    "            print(f\"BMI:{BMI}\\n體位:過重\")\n",
    "        else:\n",
    "            print(f\"BMI:{BMI}\\n體位:肥胖\")\n",
    "        break  \n",
    "    except ValueError:\n",
    "        print(\"請輸入數字！\")"
   ]
  },
  {
   "cell_type": "code",
   "execution_count": 18,
   "metadata": {},
   "outputs": [
    {
     "name": "stdout",
     "output_type": "stream",
     "text": [
      "5.0\n"
     ]
    }
   ],
   "source": [
    "def 計算機程式():\n",
    "    while True:\n",
    "        try:\n",
    "            first_num = float(input(\"請輸入第一個數字: \"))\n",
    "            operator = input(\"請輸入運算符號: \")\n",
    "            second_num = float(input(\"請輸入第二個數字: \"))\n",
    "            if operator == \"+\":\n",
    "                print(first_num + second_num)\n",
    "            elif operator == \"-\":\n",
    "                print(first_num - second_num)\n",
    "            elif operator == \"*\":\n",
    "                print(first_num * second_num)\n",
    "            elif operator == \"/\":\n",
    "                print(first_num / second_num)\n",
    "            else:\n",
    "                print(\"輸入錯誤！\")\n",
    "            break\n",
    "        except ValueError:\n",
    "            print(\"請輸入數字！\")\n",
    "計算機程式()"
   ]
  }
 ],
 "metadata": {
  "kernelspec": {
   "display_name": "Python 3",
   "language": "python",
   "name": "python3"
  },
  "language_info": {
   "codemirror_mode": {
    "name": "ipython",
    "version": 3
   },
   "file_extension": ".py",
   "mimetype": "text/x-python",
   "name": "python",
   "nbconvert_exporter": "python",
   "pygments_lexer": "ipython3",
   "version": "3.11.0"
  },
  "orig_nbformat": 4
 },
 "nbformat": 4,
 "nbformat_minor": 2
}
