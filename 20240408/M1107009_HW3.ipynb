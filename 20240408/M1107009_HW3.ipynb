{
 "cells": [
  {
   "cell_type": "code",
   "execution_count": 1,
   "metadata": {},
   "outputs": [
    {
     "name": "stdout",
     "output_type": "stream",
     "text": [
      "請注意，2024年是閏年\n"
     ]
    }
   ],
   "source": [
    "def 平年閏年判斷器(年份):\n",
    "    if 年份 < 0:\n",
    "        return False\n",
    "    elif 年份 <= 1582:\n",
    "        if 年份 % 4 == 0:\n",
    "            print(\"請注意，{}年是閏年\".format(年份))\n",
    "        else:\n",
    "            print(\"請注意，{}年是平年\".format(年份))\n",
    "    else:\n",
    "        if 年份 % 400 == 0:\n",
    "            print(\"請注意，{}年是閏年\".format(年份))\n",
    "        elif 年份 % 100 == 0:\n",
    "            print(\"請注意，{}年是平年\".format(年份))\n",
    "        elif 年份 % 4 == 0:\n",
    "            print(\"請注意，{}年是閏年\".format(年份))\n",
    "        else:\n",
    "            print(\"請注意，{}年是平年\".format(年份))\n",
    "平年閏年判斷器(2024)"
   ]
  }
 ],
 "metadata": {
  "kernelspec": {
   "display_name": "Python 3",
   "language": "python",
   "name": "python3"
  },
  "language_info": {
   "codemirror_mode": {
    "name": "ipython",
    "version": 3
   },
   "file_extension": ".py",
   "mimetype": "text/x-python",
   "name": "python",
   "nbconvert_exporter": "python",
   "pygments_lexer": "ipython3",
   "version": "3.11.0"
  },
  "orig_nbformat": 4
 },
 "nbformat": 4,
 "nbformat_minor": 2
}
