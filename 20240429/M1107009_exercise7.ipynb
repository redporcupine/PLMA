{
 "cells": [
  {
   "cell_type": "code",
   "execution_count": 9,
   "metadata": {},
   "outputs": [
    {
     "name": "stdout",
     "output_type": "stream",
     "text": [
      "         *\n",
      "        ***\n",
      "       *****\n",
      "      *******\n",
      "     *********\n",
      "    ***********\n",
      "   *************\n",
      "  ***************\n",
      " *****************\n",
      "*******************\n",
      "        ***\n",
      "        ***\n",
      "        ***\n",
      "        ***\n",
      "        ***\n"
     ]
    }
   ],
   "source": [
    "def draw_christmas_tree(height):\n",
    "    for i in range(1, height + 1):\n",
    "        print(' ' * (height - i) + '*' * (2 * i - 1))\n",
    "    for i in range(5):\n",
    "        print(' ' * (height - 2) + '*' * 3)\n",
    "height = int(input('Enter the height of the tree you want: '))\n",
    "draw_christmas_tree(height)\n",
    "    "
   ]
  },
  {
   "cell_type": "code",
   "execution_count": 7,
   "metadata": {},
   "outputs": [
    {
     "name": "stdout",
     "output_type": "stream",
     "text": [
      "身高(公分):180\n",
      "輸入內容錯誤\n",
      "體重(公斤):60\n",
      "BMI:18.51851851851852\n",
      "體位:適中\n"
     ]
    }
   ],
   "source": [
    "def BMI_calculator(weight, height):\n",
    "    BMI = weight / ((height / 100) ** 2)\n",
    "    if BMI < 18.5:\n",
    "        return(f\"BMI:{BMI}\\n體位:過輕\")\n",
    "    elif BMI < 24:\n",
    "        return(f\"BMI:{BMI}\\n體位:適中\")\n",
    "    elif BMI < 27:\n",
    "        return(f\"BMI:{BMI}\\n體位:過重\")\n",
    "    else:\n",
    "        return(f\"BMI:{BMI}\\n體位:肥胖\")\n",
    "switch = True\n",
    "switch_2 = True\n",
    "while switch:\n",
    "    try:\n",
    "        height = int(input(\"請輸入您的身高(公分): \"))\n",
    "        print(f\"身高(公分):{height}\")\n",
    "        switch = False\n",
    "    except ValueError:\n",
    "        print(\"輸入內容錯誤\")\n",
    "        continue\n",
    "while switch_2:\n",
    "    try:\n",
    "        weight = int(input(\"請輸入您的體重(公斤): \"))\n",
    "        print(f\"體重(公斤):{weight}\")\n",
    "        switch_2 = False\n",
    "    except ValueError:\n",
    "        print(\"輸入內容錯誤\")\n",
    "        continue\n",
    "print(BMI_calculator(weight, height))"
   ]
  }
 ],
 "metadata": {
  "kernelspec": {
   "display_name": "Python 3",
   "language": "python",
   "name": "python3"
  },
  "language_info": {
   "codemirror_mode": {
    "name": "ipython",
    "version": 3
   },
   "file_extension": ".py",
   "mimetype": "text/x-python",
   "name": "python",
   "nbconvert_exporter": "python",
   "pygments_lexer": "ipython3",
   "version": "3.11.0"
  },
  "orig_nbformat": 4
 },
 "nbformat": 4,
 "nbformat_minor": 2
}
