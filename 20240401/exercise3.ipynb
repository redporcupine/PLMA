{
 "cells": [
  {
   "cell_type": "code",
   "execution_count": 26,
   "metadata": {},
   "outputs": [
    {
     "name": "stdout",
     "output_type": "stream",
     "text": [
      "88.33333333333333\n",
      "{'姓名': '賴宏瑋', '性別': '男', '學號': 'M1129020'}\n",
      "95.0\n",
      "{'姓名': '許珈綺', '性別': '女', '學號': 'M1129001'}\n"
     ]
    }
   ],
   "source": [
    "import copy\n",
    "字典一 = {\"姓名\": \"賴宏瑋\", \"性別\": \"男\", \"作業分數\": [95, 100, 90]}\n",
    "字典二 = {\"學號\": \"M1129020\"}\n",
    "字典三 = {**字典一, **字典二}\n",
    "字典四 = copy.deepcopy(字典三)\n",
    "字典三[\"作業分數\"][1] = 80\n",
    "字典四[\"姓名\"] = \"許珈綺\"\n",
    "字典四[\"性別\"] = \"女\"\n",
    "字典四[\"學號\"] = \"M1129001\"\n",
    "\n",
    "def 平均分數(字典):\n",
    "    point_lst = 字典.pop(\"作業分數\")\n",
    "    sum = 0 \n",
    "    for point in point_lst:\n",
    "        sum += point\n",
    "    return sum / len(point_lst)\n",
    "\n",
    "print(平均分數(字典三))\n",
    "print(字典三)\n",
    "\n",
    "print(平均分數(字典四))\n",
    "print(字典四)\n",
    "\n",
    "\n"
   ]
  },
  {
   "cell_type": "code",
   "execution_count": 48,
   "metadata": {},
   "outputs": [
    {
     "name": "stdout",
     "output_type": "stream",
     "text": [
      "138\n"
     ]
    }
   ],
   "source": [
    "lst = [100, 50, 45, 60, 90, 95, 80, 50]\n",
    "\n",
    "lst.insert(0, 88)\n",
    "\n",
    "lst[2:5] = [70, 50]\n",
    "\n",
    "for number in lst:\n",
    "    if number == 50:\n",
    "        lst.remove(number)\n",
    "        break\n",
    "def sum_of_first_and_last(lst):\n",
    "    first_number = lst.pop(0)\n",
    "    last_number = lst.pop()\n",
    "    return first_number + last_number\n",
    "\n",
    "print(sum_of_first_and_last(lst))"
   ]
  },
  {
   "cell_type": "code",
   "execution_count": 44,
   "metadata": {},
   "outputs": [
    {
     "name": "stdout",
     "output_type": "stream",
     "text": [
      "13225\n"
     ]
    }
   ],
   "source": [
    "A = 347//3\n",
    "B = 347%3\n",
    "\n",
    "print(A**B)"
   ]
  }
 ],
 "metadata": {
  "kernelspec": {
   "display_name": "Python 3",
   "language": "python",
   "name": "python3"
  },
  "language_info": {
   "codemirror_mode": {
    "name": "ipython",
    "version": 3
   },
   "file_extension": ".py",
   "mimetype": "text/x-python",
   "name": "python",
   "nbconvert_exporter": "python",
   "pygments_lexer": "ipython3",
   "version": "3.11.0"
  },
  "orig_nbformat": 4
 },
 "nbformat": 4,
 "nbformat_minor": 2
}
