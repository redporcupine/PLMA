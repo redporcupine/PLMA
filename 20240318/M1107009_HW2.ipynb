{
 "cells": [
  {
   "cell_type": "code",
   "execution_count": 28,
   "metadata": {},
   "outputs": [
    {
     "name": "stdout",
     "output_type": "stream",
     "text": [
      "A\n",
      "['K', 'H', 'U']\n"
     ]
    }
   ],
   "source": [
    "a = 'C,B,A'\n",
    "b = ['F','G','H'] \n",
    "lst_a = a.split(',')\n",
    "combined = lst_a + b \n",
    "combined[0] = 'K'\n",
    "thrird_index = combined.pop(2)\n",
    "print(thrird_index)\n",
    "del combined[1:4]\n",
    "combined.append('U')\n",
    "print(combined)"
   ]
  },
  {
   "cell_type": "code",
   "execution_count": 10,
   "metadata": {},
   "outputs": [
    {
     "name": "stdout",
     "output_type": "stream",
     "text": [
      "5\n"
     ]
    }
   ],
   "source": [
    "num = input('Enter a eight digit number: ')\n",
    "#怕使用者輸入超過8位數\n",
    "if len(num) == 8: \n",
    "    print(num[4])\n",
    "else:\n",
    "    print('Invalid number')"
   ]
  },
  {
   "cell_type": "code",
   "execution_count": 13,
   "metadata": {},
   "outputs": [
    {
     "name": "stdout",
     "output_type": "stream",
     "text": [
      "4\n",
      "8\n"
     ]
    }
   ],
   "source": [
    "sentence = \"My ID is M1107009\"\n",
    "sentence_lst = sentence.split(' ')\n",
    "print(len(sentence_lst))\n",
    "print(len(sentence_lst[3]))\n"
   ]
  },
  {
   "cell_type": "code",
   "execution_count": 32,
   "metadata": {},
   "outputs": [
    {
     "name": "stdout",
     "output_type": "stream",
     "text": [
      "m\n",
      "m\n"
     ]
    }
   ],
   "source": [
    "#法一\n",
    "sentence = \"I'm a student\"\n",
    "char_lst = []\n",
    "for i in sentence:\n",
    "    char_lst.append(i)\n",
    "print(char_lst.pop(2))\n",
    "\n",
    "#法二\n",
    "word_lst = sentence.split(' ')\n",
    "print(word_lst[0][2])\n"
   ]
  }
 ],
 "metadata": {
  "kernelspec": {
   "display_name": "Python 3",
   "language": "python",
   "name": "python3"
  },
  "language_info": {
   "codemirror_mode": {
    "name": "ipython",
    "version": 3
   },
   "file_extension": ".py",
   "mimetype": "text/x-python",
   "name": "python",
   "nbconvert_exporter": "python",
   "pygments_lexer": "ipython3",
   "version": "3.11.0"
  },
  "orig_nbformat": 4
 },
 "nbformat": 4,
 "nbformat_minor": 2
}
