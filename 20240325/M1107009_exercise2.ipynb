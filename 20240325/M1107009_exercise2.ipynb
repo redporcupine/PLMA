{
 "cells": [
  {
   "cell_type": "code",
   "execution_count": 1,
   "metadata": {},
   "outputs": [
    {
     "name": "stdout",
     "output_type": "stream",
     "text": [
      "{'姓名': '賴宏瑋', '性別': '男', '作業分數': [100, 100, 90], '學號': 'M1129020'}\n",
      "96.66666666666667\n"
     ]
    }
   ],
   "source": [
    "Student = {\"姓名\": \"賴宏瑋\", \"性別\" : \"男\", \"作業分數\" : [80, 95, 100, 90]}\n",
    "Student[\"學號\"] = \"M1129020\"\n",
    "Student[\"作業分數\"][1] = 100\n",
    "del Student[\"作業分數\"][0]\n",
    "print(Student)\n",
    "average_points = sum(Student[\"作業分數\"]) / len(Student[\"作業分數\"])\n",
    "print(average_points)"
   ]
  }
 ],
 "metadata": {
  "kernelspec": {
   "display_name": "Python 3",
   "language": "python",
   "name": "python3"
  },
  "language_info": {
   "codemirror_mode": {
    "name": "ipython",
    "version": 3
   },
   "file_extension": ".py",
   "mimetype": "text/x-python",
   "name": "python",
   "nbconvert_exporter": "python",
   "pygments_lexer": "ipython3",
   "version": "3.11.0"
  },
  "orig_nbformat": 4
 },
 "nbformat": 4,
 "nbformat_minor": 2
}
