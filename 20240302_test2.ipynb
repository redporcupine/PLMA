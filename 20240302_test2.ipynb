{
  "nbformat": 4,
  "nbformat_minor": 0,
  "metadata": {
    "colab": {
      "provenance": []
    },
    "kernelspec": {
      "name": "python3",
      "display_name": "Python 3"
    },
    "language_info": {
      "name": "python"
    }
  },
  "cells": [
    {
      "cell_type": "code",
      "execution_count": null,
      "metadata": {
        "colab": {
          "base_uri": "https://localhost:8080/"
        },
        "id": "jcZUYBb5drRM",
        "outputId": "b9a4eb7b-72a0-4677-b8a5-bb3f422d5efb"
      },
      "outputs": [
        {
          "output_type": "stream",
          "name": "stdout",
          "text": [
            "495\n"
          ]
        }
      ],
      "source": [
        "x = 2\n",
        "y = 1\n",
        "ans_1 = (2 * x + y) * (100 - y)\n",
        "print(ans_1)"
      ]
    },
    {
      "cell_type": "code",
      "source": [
        "y = 4\n",
        "ans_2 = 100/(2 * y + 1)\n",
        "print(ans_2)"
      ],
      "metadata": {
        "colab": {
          "base_uri": "https://localhost:8080/"
        },
        "id": "5qssvNs0d5-w",
        "outputId": "c3f3ee1b-b7ae-4f99-967d-59c94cc8f205"
      },
      "execution_count": null,
      "outputs": [
        {
          "output_type": "stream",
          "name": "stdout",
          "text": [
            "11.11111111111111\n"
          ]
        }
      ]
    }
  ]
}