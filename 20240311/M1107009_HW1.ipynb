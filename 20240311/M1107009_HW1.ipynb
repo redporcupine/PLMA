{
 "cells": [
  {
   "cell_type": "code",
   "execution_count": 6,
   "metadata": {},
   "outputs": [
    {
     "name": "stdout",
     "output_type": "stream",
     "text": [
      "I'm a student\n"
     ]
    }
   ],
   "source": [
    "a = \"I'm a student\" #習慣先存Varible再print\n",
    "print(a)\n"
   ]
  },
  {
   "cell_type": "code",
   "execution_count": 7,
   "metadata": {},
   "outputs": [
    {
     "name": "stdout",
     "output_type": "stream",
     "text": [
      "Error: Please only enter number values for coordinates. Try again.\n",
      "The distance of AB :  21.93171219946131\n"
     ]
    }
   ],
   "source": [
    "#習慣用function比較好看\n",
    "def calculate_distance(x1, y1, x2, y2):\n",
    "    return ((x2 - x1) ** 2 + (y2 - y1) ** 2) ** 0.5\n",
    "#怕使用者不打數字造成error，loop是讓使用者打錯可以繼續輸入不用中斷程式，程式成功再break\n",
    "while True:\n",
    "    try:\n",
    "        A_x = float(input(\"Enter the x-coordinate (point A): \"))\n",
    "        A_y = float(input(\"Enter the y-coordinate (point A): \"))\n",
    "        B_x = float(input(\"Enter the x-coordinate (point B): \"))\n",
    "        B_y = float(input(\"Enter the y-coordinate (point B): \"))\n",
    "        print(\"The distance of AB : \", calculate_distance(A_x, A_y, B_x, B_y))\n",
    "        break  \n",
    "    except ValueError:\n",
    "        print(\"Error: Please only enter number values for coordinates. Try again.\")\n"
   ]
  },
  {
   "cell_type": "code",
   "execution_count": 8,
   "metadata": {},
   "outputs": [
    {
     "name": "stdout",
     "output_type": "stream",
     "text": [
      "Error: Please only enter number values for height and weight. Try again.\n",
      "Error: Please only enter number values for height and weight. Try again.\n",
      "Your BMI:  22.308149910767405\n"
     ]
    }
   ],
   "source": [
    "#BMI calculator (跟上面差不多擔心使用者打錯，問到對為止)\n",
    "while True:\n",
    "    try:\n",
    "        height = float(input(\"Enter your height (in cm): \")) / 100\n",
    "        weight = float(input(\"Enter your weight (in kg): \"))\n",
    "        BMI = weight / (height ** 2)\n",
    "        print(\"Your BMI: \", BMI)\n",
    "        break  \n",
    "    except ValueError:\n",
    "        print(\"Error: Please only enter number values for height and weight. Try again.\")\n",
    "\n"
   ]
  }
 ],
 "metadata": {
  "kernelspec": {
   "display_name": "Python 3",
   "language": "python",
   "name": "python3"
  },
  "language_info": {
   "codemirror_mode": {
    "name": "ipython",
    "version": 3
   },
   "file_extension": ".py",
   "mimetype": "text/x-python",
   "name": "python",
   "nbconvert_exporter": "python",
   "pygments_lexer": "ipython3",
   "version": "3.11.0"
  },
  "orig_nbformat": 4
 },
 "nbformat": 4,
 "nbformat_minor": 2
}
